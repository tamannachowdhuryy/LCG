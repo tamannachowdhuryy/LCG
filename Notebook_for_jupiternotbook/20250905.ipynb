{
 "cells": [
  {
   "cell_type": "code",
   "execution_count": null,
   "id": "c52fcac7",
   "metadata": {},
   "outputs": [
    {
     "name": "stdout",
     "output_type": "stream",
     "text": [
      "I am 33 years old!\n"
     ]
    }
   ],
   "source": [
    "# fucntion that takes value of age and print the information \n",
    "\n",
    "def user_age(age):\n",
    "    print(\"I am \" + age + \" years old!\")\n",
    "user_age('33')"
   ]
  },
  {
   "cell_type": "code",
   "execution_count": 2,
   "id": "e25f8e6a",
   "metadata": {},
   "outputs": [
    {
     "name": "stdout",
     "output_type": "stream",
     "text": [
      "New York is in USA\n",
      "New Jersey is in USA\n",
      "Florida is in USA\n",
      "Toronto is in Canada\n"
     ]
    }
   ],
   "source": [
    "# Write a function that accepts two arguments, for example city and country, hospital name and department, etc.​\n",
    "def location(city, country=\"USA\"):\n",
    "    print(city + \" is in \" + country)\n",
    "# Call your function 3 times – for three different examples – i.e. New York, New jersey, Florida​\n",
    "location(\"New York\")\n",
    "location(\"New Jersey\", \"USA\")\n",
    "location(\"Florida\", \"USA\")  \n",
    "# Modify your function to take in a default parameter.\n",
    "location(\"Toronto\", \"Canada\")"
   ]
  }
 ],
 "metadata": {
  "kernelspec": {
   "display_name": "Python 3",
   "language": "python",
   "name": "python3"
  },
  "language_info": {
   "codemirror_mode": {
    "name": "ipython",
    "version": 3
   },
   "file_extension": ".py",
   "mimetype": "text/x-python",
   "name": "python",
   "nbconvert_exporter": "python",
   "pygments_lexer": "ipython3",
   "version": "3.12.10"
  }
 },
 "nbformat": 4,
 "nbformat_minor": 5
}
