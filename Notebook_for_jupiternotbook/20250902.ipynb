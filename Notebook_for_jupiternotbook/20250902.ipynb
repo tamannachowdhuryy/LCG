{
 "cells": [
  {
   "cell_type": "code",
   "execution_count": null,
   "id": "35e85828",
   "metadata": {},
   "outputs": [
    {
     "data": {
      "text/plain": [
       "Incorrect exam!\n"
      ]
     },
     "metadata": {},
     "output_type": "display_data"
    }
   ],
   "source": [
    "p_exam = 'echo'\n",
    "if p_exam != 'ecg':\n",
    "    print('Incorrect exam!')"
   ]
  },
  {
   "cell_type": "code",
   "execution_count": null,
   "id": "ccb55d5c",
   "metadata": {},
   "outputs": [
    {
     "data": {
      "text/plain": [
       "Patient was readmitted within 30 days\n"
      ]
     },
     "metadata": {},
     "output_type": "display_data"
    }
   ],
   "source": [
    "readmit =  29\n",
    "if readmit < 30:\n",
    "    print('Patient was readmitted within 30 days')\n",
    "else:\n",
    "    print('Patient was not readmitted within 30 days')\n"
   ]
  },
  {
   "cell_type": "markdown",
   "id": "6ff8d78a",
   "metadata": {},
   "source": [
    "Create a series of conditional tests using the following guidelines. You should have at least one for true and false.​\n",
    "\n",
    "Tests for equality and inequality with strings​\n",
    "Numerical tests - =, !=, >, <, !=​\n",
    "A test using 'and' and 'or'​\n",
    "A test using 'in'​\n",
    "A test using 'not in'\n"
   ]
  },
  {
   "cell_type": "code",
   "execution_count": null,
   "id": "cd545bc0",
   "metadata": {},
   "outputs": [
    {
     "data": {
      "text/plain": [
       "chocolate\n",
       "vanilla\n",
       "red velvet\n",
       "carrot\n"
      ]
     },
     "metadata": {},
     "output_type": "display_data"
    }
   ],
   "source": [
    "# list of cakes\n",
    "cakes = ['chocolate', 'vanilla', 'red velvet', 'carrot']\n",
    "for cake in cakes:\n",
    "    print(cake)"
   ]
  },
  {
   "cell_type": "code",
   "execution_count": null,
   "id": "70d73e90",
   "metadata": {},
   "outputs": [
    {
     "data": {
      "text/plain": [
       "Yum! Not my favorite!\n"
      ]
     },
     "metadata": {},
     "output_type": "display_data"
    }
   ],
   "source": [
    "# check for equality and inequality with lists\n",
    "if cakes != 'red velvet':\n",
    "    print('Yum! Not my favorite!')"
   ]
  },
  {
   "cell_type": "code",
   "execution_count": null,
   "id": "bc4e2f34",
   "metadata": {},
   "outputs": [
    {
     "data": {
      "text/plain": [
       "Yummyyy flavors!\n"
      ]
     },
     "metadata": {},
     "output_type": "display_data"
    }
   ],
   "source": [
    "\n",
    "if 'red velvet' in cakes or 'chocolate' in cakes:\n",
    "    print('Yummyyy flavors!')"
   ]
  },
  {
   "cell_type": "code",
   "execution_count": null,
   "id": "cbe5625f",
   "metadata": {},
   "outputs": [
    {
     "data": {
      "text/plain": [
       "No favorite flavors found.\n"
      ]
     },
     "metadata": {},
     "output_type": "display_data"
    }
   ],
   "source": [
    "# check for favorite flavors that are not in cakes\n",
    "if 'strawberry' not in cakes:\n",
    "    print('No favorite flavors found.')\n",
    "else:\n",
    "    print('Favorite flavors found!')"
   ]
  },
  {
   "cell_type": "code",
   "execution_count": null,
   "id": "c5db0227",
   "metadata": {},
   "outputs": [
    {
     "data": {
      "text/plain": [
       "[1, 2, 3, 4]\n"
      ]
     },
     "metadata": {},
     "output_type": "display_data"
    }
   ],
   "source": [
    "# cake list numerical representation\n",
    "cake_numbers = list(range(1, len(cakes) + 1))\n",
    "print(cake_numbers)\n"
   ]
  },
  {
   "cell_type": "code",
   "execution_count": null,
   "id": "7935c758",
   "metadata": {},
   "outputs": [
    {
     "data": {
      "text/plain": [
       "age 17: Admission price $5\n"
      ]
     },
     "metadata": {},
     "output_type": "display_data"
    }
   ],
   "source": [
    "age = 17\n",
    "if age < 5:\n",
    "    print('age ' + str(age) + ': Admission price free')\n",
    "\n",
    "elif age < 18:\n",
    "    print('age ' + str(age) + ': Admission price $5')\n",
    "\n",
    "else:\n",
    "    print('age ' + str(age) + ': Admission price $10')\n"
   ]
  },
  {
   "cell_type": "code",
   "execution_count": null,
   "id": "2899ed73",
   "metadata": {},
   "outputs": [
    {
     "data": {
      "text/plain": [
       "Person is an adult.\n"
      ]
     },
     "metadata": {},
     "output_type": "display_data"
    }
   ],
   "source": [
    "# Task 1: Write an if-elif-else chain to determine the persons age group.​For example, if the person is less than 2 years old, print that person is a baby.​ This should work on someone that is over 70.\n",
    "\n",
    "age = 20\n",
    "if  age < 2:\n",
    "    print('Person is a baby.')\n",
    "\n",
    "elif age < 4:\n",
    "    print('Person is a toddler.')\n",
    "\n",
    "elif age < 13:\n",
    "    print('Person is a child.')\n",
    "\n",
    "elif age < 20:\n",
    "    print('Person is a teenager.')\n",
    "\n",
    "elif age < 65:\n",
    "    print('Person is an adult.')\n",
    "\n",
    "else:\n",
    "    print('Person is a senior.')\n"
   ]
  },
  {
   "cell_type": "code",
   "execution_count": null,
   "id": "a6b1a270",
   "metadata": {},
   "outputs": [
    {
     "data": {
      "text/plain": [
       "Milk is on the grocery list.\n",
       "Bread is on the grocery list.\n",
       "Fruits are on the grocery list.\n"
      ]
     },
     "metadata": {},
     "output_type": "display_data"
    }
   ],
   "source": [
    "# Task 2: Write a grocery list. Then write a series of if statements that check if the items in your cart are on your list. ​ You should have at least 5 if statements.\n",
    "\n",
    "grocery_list = ['milk', 'bread', 'eggs', 'fruits', 'vegetables']\n",
    "cart = ['milk', 'bread', 'chocolate', 'snacks', 'fruits']\n",
    "\n",
    "if 'milk' in cart:\n",
    "    print('Milk is on the grocery list.')\n",
    "\n",
    "if 'bread' in cart:\n",
    "    print('Bread is on the grocery list.')\n",
    "\n",
    "if 'eggs' in cart:\n",
    "    print('Eggs are on the grocery list.')\n",
    "\n",
    "if 'fruits' in cart:\n",
    "    print('Fruits are on the grocery list.')\n",
    "\n",
    "if 'vegetables' in cart:\n",
    "    print('Vegetables are on the grocery list.')\n"
   ]
  },
  {
   "cell_type": "code",
   "execution_count": null,
   "id": "7aa90bc8",
   "metadata": {},
   "outputs": [
    {
     "data": {
      "text/plain": [
       "Welcome back, user1!\n",
       "Welcome back, user2!\n",
       "Welcome back, Admin! You have special privileges.\n",
       "Welcome back, user3!\n",
       "Welcome back, user4!\n"
      ]
     },
     "metadata": {},
     "output_type": "display_data"
    }
   ],
   "source": [
    "# Task 3: Make a list of 5 or more usernames, including an admin account. Imagine you are writing code that will welcome people to your application on login. Loop through the list and print your greeting.\n",
    "\n",
    "# If the admin account logs in, give them a special greeting. They’re the admin, after all!\n",
    "\n",
    "# Other users can get the generic greeting.\n",
    "\n",
    "usernames = ['user1', 'user2', 'admin', 'user3', 'user4']\n",
    "\n",
    "for user in usernames:\n",
    "    if user == 'admin':\n",
    "        print('Welcome back, Admin! You have special privileges.')\n",
    "    else:\n",
    "        print('Welcome back, ' + user + '!')\n"
   ]
  },
  {
   "cell_type": "code",
   "execution_count": null,
   "id": "c8d23755",
   "metadata": {},
   "outputs": [
    {
     "data": {
      "text/plain": [
       "1st\n",
       "2nd\n",
       "3rd\n",
       "4th\n",
       "5th\n",
       "6th\n",
       "7th\n",
       "8th\n",
       "9th\n",
       "10th\n"
      ]
     },
     "metadata": {},
     "output_type": "display_data"
    }
   ],
   "source": [
    "# Task 4: Store numbers 1-10 in a list\n",
    "\n",
    "# Loop through the list\n",
    "\n",
    "# Use an if-elif-else chain inside your loop to print the ordinal ending for each number – for example – 1st, 2nd, 3rd … etc.\n",
    "\n",
    "numbers = list(range(1, 11))\n",
    "\n",
    "for n in numbers:\n",
    "    if n == 1:\n",
    "        print(str(n) + 'st')\n",
    "    elif n == 2:\n",
    "        print(str(n) + 'nd')\n",
    "    elif n == 3:\n",
    "        print(str(n) + 'rd')\n",
    "    else:\n",
    "        print(str(n) + 'th')\n"
   ]
  }
 ],
 "metadata": {
  "language_info": {
   "name": "python"
  }
 },
 "nbformat": 4,
 "nbformat_minor": 5
}
