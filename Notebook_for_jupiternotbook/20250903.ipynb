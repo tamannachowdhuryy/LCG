{
 "cells": [
  {
   "cell_type": "code",
   "execution_count": null,
   "id": "fdb0c63e",
   "metadata": {},
   "outputs": [],
   "source": [
    "cake_delivery = {}\n",
    "cake_delivery['first_name'] = 'John'\n",
    "cake_delivery['last_name'] = 'Doe'\n",
    "cake_delivery['address'] = '123 Main St'\n",
    "cake_delivery['city'] = 'Anytown'\n",
    "cake_delivery['zip_code'] = '12345'\n"
   ]
  },
  {
   "cell_type": "code",
   "execution_count": null,
   "id": "d1a450ea",
   "metadata": {},
   "outputs": [
    {
     "data": {
      "text/plain": [
       "{'first_name': 'John', 'last_name': 'Doe', 'address': '123 Main St', 'city': 'Anytown', 'zip_code': '12345'}\n"
      ]
     },
     "metadata": {},
     "output_type": "display_data"
    }
   ],
   "source": [
    "print(cake_delivery)"
   ]
  },
  {
   "cell_type": "code",
   "execution_count": null,
   "id": "603b292c",
   "metadata": {},
   "outputs": [
    {
     "data": {
      "text/plain": [
       "first_name: Alice\n",
       "last_name: Smith\n",
       "age: 30\n",
       "city: Wonderland\n",
       "favorite_color: blue\n"
      ]
     },
     "metadata": {},
     "output_type": "display_data"
    }
   ],
   "source": [
    "# Use a dictionary to store information about someone you know. First name, last name, age, city, and one other piece of information. Print each piece of information out.\n",
    "\n",
    "person_info = {\n",
    "    'first_name': 'Alice',\n",
    "    'last_name': 'Smith',\n",
    "    'age': 30,\n",
    "    'city': 'Wonderland',\n",
    "    'favorite_color': 'blue'\n",
    "}\n",
    "\n",
    "for key, value in person_info.items():\n",
    "    print(key + ': ' + str(value))\n",
    "\n",
    "\n",
    "    \n"
   ]
  },
  {
   "cell_type": "code",
   "execution_count": null,
   "id": "6a7e9578",
   "metadata": {},
   "outputs": [
    {
     "data": {
      "text/plain": [
       "John: 25\n",
       "Alice: 30\n",
       "Bob: 22\n",
       "Diana: 28\n",
       "Ethan: 35\n"
      ]
     },
     "metadata": {},
     "output_type": "display_data"
    }
   ],
   "source": [
    "#Use a dictionary to store 5 people you know and their ages. Print eachpersons name and age. \n",
    "\n",
    "\n",
    "peeps = {\n",
    "    'John': 25,\n",
    "    'Alice': 30,\n",
    "    'Bob': 22,\n",
    "    'Diana': 28,\n",
    "    'Ethan': 35\n",
    "}\n",
    "\n",
    "for name, age in peeps.items():\n",
    "    print(name + ': ' + str(age))\n"
   ]
  },
  {
   "cell_type": "code",
   "execution_count": null,
   "id": "b9e29490",
   "metadata": {},
   "outputs": [
    {
     "data": {
      "text/plain": [
       "List: is a collection which is ordered and changeable. Allows duplicate members.\n",
       "Tuple: is a collection which is ordered and unchangeable. Allows duplicate members.\n",
       "Dictionary: is a collection which is unordered, changeable, and indexed. No duplicate members.\n"
      ]
     },
     "metadata": {},
     "output_type": "display_data"
    }
   ],
   "source": [
    "# Create a dictionary storing vocab words we’ve spoken about – store at least3. Think of making a “glossary”. Print each word and its definition, separatedby a colon (:). Make the output clean and easy to read.\n",
    "vocab = { 'List' : 'is a collection which is ordered and changeable. Allows duplicate members.',\n",
    "           'Tuple' : 'is a collection which is ordered and unchangeable. Allows duplicate members.',\n",
    "           'Dictionary' : 'is a collection which is unordered, changeable, and indexed. No duplicate members.'\n",
    "         }\n",
    "\n",
    "for word, definition in vocab.items():\n",
    "    print(word + ': ' + definition)\n"
   ]
  },
  {
   "cell_type": "code",
   "execution_count": null,
   "id": "a9ca6db3",
   "metadata": {},
   "outputs": [
    {
     "data": {
      "text/plain": [
       "u\n",
       "quit\n"
      ]
     },
     "metadata": {},
     "output_type": "display_data"
    }
   ],
   "source": [
    "prompt = \"I am learning Python programming.\"\n",
    "message = \"\"\n",
    "\n",
    "while message != \"quit\":\n",
    "    message = input(prompt) \n",
    "    print(message)"
   ]
  }
 ],
 "metadata": {
  "language_info": {
   "name": "python"
  }
 },
 "nbformat": 4,
 "nbformat_minor": 5
}
