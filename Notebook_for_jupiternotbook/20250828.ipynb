{
 "cells": [
  {
   "cell_type": "markdown",
   "id": "da83737a",
   "metadata": {},
   "source": [
    "Connected to Python 3.12.10"
   ]
  },
  {
   "cell_type": "code",
   "execution_count": null,
   "id": "7ea4307a",
   "metadata": {},
   "outputs": [
    {
     "name": "stdout",
     "output_type": "stream",
     "text": [
      "Hello karly, what are you doing after class?\n"
     ]
    }
   ],
   "source": [
    "name = \"karly\"\n",
    "message = \"Hello\" + \" \" + name + \", \" + \"what are you doing after class?\"\n",
    "print(message)  "
   ]
  },
  {
   "cell_type": "markdown",
   "id": "2ea49ac3",
   "metadata": {},
   "source": [
    "Restarted Python 3.12.10"
   ]
  },
  {
   "cell_type": "code",
   "execution_count": null,
   "id": "e0e76149",
   "metadata": {},
   "outputs": [
    {
     "name": "stdout",
     "output_type": "stream",
     "text": [
      "SAM\n",
      "sam\n"
     ]
    }
   ],
   "source": [
    "name = \"sam\"\n",
    "print(name.upper())\n",
    "print(name.lower())\n"
   ]
  },
  {
   "cell_type": "markdown",
   "id": "5505148c",
   "metadata": {},
   "source": [
    "Restarted Python 3.12.10"
   ]
  },
  {
   "cell_type": "code",
   "execution_count": null,
   "id": "3831b245",
   "metadata": {},
   "outputs": [
    {
     "name": "stdout",
     "output_type": "stream",
     "text": [
      "Before:  i love cats.\t\n",
      "After:  i love cats.\n"
     ]
    }
   ],
   "source": [
    "words = \"i love cats.\\t\"\n",
    "print(\"Before: \" , words)\n",
    "clean = words.strip(\"\\t\")\n",
    "print(\"After: \", clean)"
   ]
  },
  {
   "cell_type": "code",
   "execution_count": null,
   "id": "5a2a9d8f",
   "metadata": {},
   "outputs": [
    {
     "data": {
      "text/plain": [
       "8"
      ]
     },
     "execution_count": 4,
     "metadata": {},
     "output_type": "execute_result"
    }
   ],
   "source": [
    "4 + 4"
   ]
  },
  {
   "cell_type": "code",
   "execution_count": null,
   "id": "9b7df29c",
   "metadata": {},
   "outputs": [
    {
     "data": {
      "text/plain": [
       "8.0"
      ]
     },
     "execution_count": 5,
     "metadata": {},
     "output_type": "execute_result"
    }
   ],
   "source": [
    "16/2"
   ]
  },
  {
   "cell_type": "code",
   "execution_count": null,
   "id": "ea272945",
   "metadata": {},
   "outputs": [
    {
     "data": {
      "text/plain": [
       "8"
      ]
     },
     "execution_count": 6,
     "metadata": {},
     "output_type": "execute_result"
    }
   ],
   "source": [
    "4 * 2"
   ]
  },
  {
   "cell_type": "code",
   "execution_count": null,
   "id": "f5a98d9a",
   "metadata": {},
   "outputs": [
    {
     "data": {
      "text/plain": [
       "8"
      ]
     },
     "execution_count": 7,
     "metadata": {},
     "output_type": "execute_result"
    }
   ],
   "source": [
    "10 - 2"
   ]
  },
  {
   "cell_type": "code",
   "execution_count": null,
   "id": "70241f4a",
   "metadata": {},
   "outputs": [
    {
     "name": "stdout",
     "output_type": "stream",
     "text": [
      "Hey, friend my fav number is 27.\n"
     ]
    }
   ],
   "source": [
    "fav_num = 27\n",
    "message = \"Hey, friend my fav number is \" + str(fav_num) + \".\"\n",
    "print(message)"
   ]
  },
  {
   "cell_type": "code",
   "execution_count": null,
   "id": "0315807e",
   "metadata": {},
   "outputs": [
    {
     "name": "stdout",
     "output_type": "stream",
     "text": [
      "['Nabila', 'Nishat', 'Sanjidah', 'Suchi', 'Sumi']\n"
     ]
    }
   ],
   "source": [
    "object_friends = ['Sumi', 'Suchi' , 'Nabila', 'Nishat', 'Sanjidah']\n",
    "sort_name = sorted(object_friends)\n",
    "print(sort_name)\n"
   ]
  },
  {
   "cell_type": "code",
   "execution_count": null,
   "id": "4257e5ae",
   "metadata": {},
   "outputs": [
    {
     "name": "stdout",
     "output_type": "stream",
     "text": [
      "Nabila\n",
      "Nishat\n",
      "Sanjidah\n",
      "Suchi\n",
      "Sumi\n"
     ]
    }
   ],
   "source": [
    "for i in sort_name:\n",
    "    print(i)"
   ]
  },
  {
   "cell_type": "code",
   "execution_count": null,
   "id": "b20b333c",
   "metadata": {},
   "outputs": [
    {
     "name": "stdout",
     "output_type": "stream",
     "text": [
      "Hey Nabila, I hope your having a good day my love!\n",
      "Hey Nishat, I hope your having a good day my love!\n",
      "Hey Sanjidah, I hope your having a good day my love!\n",
      "Hey Suchi, I hope your having a good day my love!\n",
      "Hey Sumi, I hope your having a good day my love!\n"
     ]
    }
   ],
   "source": [
    "for i in sort_name:\n",
    "    print(\"Hey \" + i + \",\" + \" \" + \"I hope your having a good day my love!\")"
   ]
  },
  {
   "cell_type": "code",
   "execution_count": null,
   "id": "273cb150",
   "metadata": {},
   "outputs": [],
   "source": [
    "# Are the following variable names allowed in python?\n",
    "# 1_message  -> yes\n",
    "# Greeting_message  -> yes\n",
    "# Message_1 -> yes \n",
    "# First name -> no\n",
    "# Full_name -> yes"
   ]
  },
  {
   "cell_type": "code",
   "execution_count": null,
   "id": "ed730f6a",
   "metadata": {},
   "outputs": [
    {
     "name": "stdout",
     "output_type": "stream",
     "text": [
      "hello there!\n"
     ]
    }
   ],
   "source": [
    "# Create a variable that holds the string “hello there!”\n",
    "message = \"hello there!\"\n",
    "print(message)"
   ]
  },
  {
   "cell_type": "code",
   "execution_count": null,
   "id": "c69996a2",
   "metadata": {},
   "outputs": [
    {
     "name": "stdout",
     "output_type": "stream",
     "text": [
      "email address: samjames@gmail.com\n"
     ]
    }
   ],
   "source": [
    "# Create a variable for first name, last name and an email extension. Concatenating all three together to form an email address.For example: firstnamelastname@gmail.com\n",
    "first_name = \"sam\"\n",
    "last_name = \"james\"\n",
    "email = \"@gmail.com\"\n",
    "print(\"email address: \" + first_name + last_name + email)\n",
    "\n"
   ]
  },
  {
   "cell_type": "code",
   "execution_count": null,
   "id": "23f7f2cf",
   "metadata": {},
   "outputs": [
    {
     "name": "stdout",
     "output_type": "stream",
     "text": [
      "LILLY\n",
      "lilly\n"
     ]
    }
   ],
   "source": [
    "# Store someone you know name in a variable called name. Print their name in lower and uppercase using a method.\n",
    "name = \"lilly\"\n",
    "print(name.upper())\n",
    "print(name.lower())\n"
   ]
  },
  {
   "cell_type": "code",
   "execution_count": null,
   "id": "57eb0fb1",
   "metadata": {},
   "outputs": [
    {
     "name": "stdout",
     "output_type": "stream",
     "text": [
      "hey are you free on the 15th?\n"
     ]
    }
   ],
   "source": [
    "month = 15 \n",
    "print(\"hey are you free on the \" + str(month) + \"th?\")"
   ]
  },
  {
   "cell_type": "markdown",
   "id": "0983446c",
   "metadata": {},
   "source": [
    "Connected to Python 3.12.10"
   ]
  },
  {
   "cell_type": "code",
   "execution_count": null,
   "id": "a43bbf0f",
   "metadata": {},
   "outputs": [
    {
     "name": "stdout",
     "output_type": "stream",
     "text": [
      "['apples', 'bannana', 'mango']\n"
     ]
    }
   ],
   "source": [
    "fruits = [\"apples\", \"bannana\", \"mango\"]\n",
    "print(fruits)\n"
   ]
  },
  {
   "cell_type": "code",
   "execution_count": null,
   "id": "ec18a9b5",
   "metadata": {},
   "outputs": [
    {
     "name": "stdout",
     "output_type": "stream",
     "text": [
      "['apples', 'carrots', 'orengages', 'lemon', ' watermelon', 'bannana', 'mango']\n"
     ]
    }
   ],
   "source": [
    "# Modify your list of foods to add another – making a total of 4 foods\n",
    "fruits.insert(1, \"carrots\")\n",
    "fruits.insert(2, \"orengages\")\n",
    "fruits.insert(3, \"lemon\")\n",
    "fruits.insert(4, \" watermelon\")\n",
    "print(fruits)"
   ]
  },
  {
   "cell_type": "code",
   "execution_count": null,
   "id": "609d1693",
   "metadata": {},
   "outputs": [
    {
     "name": "stdout",
     "output_type": "stream",
     "text": [
      "['apples', 'carrots', 'orengages', ' watermelon', 'bannana', 'mango']\n"
     ]
    }
   ],
   "source": [
    "fruits.remove(\"lemon\")\n",
    "print(fruits)"
   ]
  },
  {
   "cell_type": "code",
   "execution_count": null,
   "id": "9dd2e3a9",
   "metadata": {},
   "outputs": [],
   "source": [
    "fruits.append(\"cake\")"
   ]
  },
  {
   "cell_type": "code",
   "execution_count": null,
   "id": "1eb85abf",
   "metadata": {},
   "outputs": [
    {
     "name": "stdout",
     "output_type": "stream",
     "text": [
      "['apples', 'carrots', 'orengages', ' watermelon', 'bannana', 'mango', 'cake']\n"
     ]
    }
   ],
   "source": [
    "print(fruits)"
   ]
  },
  {
   "cell_type": "code",
   "execution_count": null,
   "id": "7ebc32ae",
   "metadata": {},
   "outputs": [
    {
     "name": "stdout",
     "output_type": "stream",
     "text": [
      "['South Korea', 'Japan', 'Itly']\n",
      "['Itly', 'Japan', 'South Korea']\n",
      "['South Korea', 'Japan', 'Itly']\n"
     ]
    }
   ],
   "source": [
    "places = [\"South Korea\", \"Japan\", \"Itly\"]\n",
    "print(places)\n",
    "print(sorted(places))\n",
    "places.sort(reverse=True)\n",
    "print(places)"
   ]
  }
 ],
 "metadata": {
  "kernelspec": {
   "display_name": "Python 3",
   "language": "python",
   "name": "python3"
  },
  "language_info": {
   "codemirror_mode": {
    "name": "ipython",
    "version": 3
   },
   "file_extension": ".py",
   "mimetype": "text/x-python",
   "name": "python",
   "nbconvert_exporter": "python",
   "pygments_lexer": "ipython3",
   "version": "3.12.10"
  }
 },
 "nbformat": 4,
 "nbformat_minor": 5
}
