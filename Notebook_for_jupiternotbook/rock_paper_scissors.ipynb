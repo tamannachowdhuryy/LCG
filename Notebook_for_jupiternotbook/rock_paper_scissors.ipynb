{
 "cells": [
  {
   "cell_type": "code",
   "execution_count": null,
   "id": "9be48d1e",
   "metadata": {},
   "outputs": [
    {
     "data": {
      "text/plain": [
       "\n",
       "--- Round 1 ---\n",
       "It's a tie!\n",
       "Current Score -> Player 1: 0 | Player 2: 0\n",
       "\n",
       "--- Round 2 ---\n",
       "Player 2 wins this round!\n",
       "Current Score -> Player 1: 0 | Player 2: 1\n",
       "\n",
       "=== Final Results ===\n",
       "Total Rounds Played: 2\n",
       "Player 1 total wins: 0\n",
       "Player 2 total wins: 1\n",
       "🏆 Player 2 is the overall winner!\n"
      ]
     },
     "metadata": {},
     "output_type": "display_data"
    }
   ],
   "source": [
    "# Make a two-player Rock-Paper-Scissors game. (Hint: Ask for player plays\n",
    "# (using input), compare them, print out a message of congratulations to the\n",
    "# winner, and ask if the players want to start a new game)\n",
    "# Initialize scores\n",
    "# Initialize scores\n",
    "p1_score = 0\n",
    "p2_score = 0\n",
    "rounds = 0  # keep track of total rounds played\n",
    "\n",
    "while True:  # game loop\n",
    "    rounds += 1\n",
    "    print(f\"\\n--- Round {rounds} ---\")\n",
    "\n",
    "    user1 = input(\"Player 1, enter your choice (R: rock, P: paper, S: scissors): \").upper()\n",
    "    user2 = input(\"Player 2, enter your choice (R: rock, P: paper, S: scissors): \").upper()\n",
    "\n",
    "    if user1 == user2:\n",
    "        print(\"It's a tie!\")\n",
    "    elif (user1 == \"R\" and user2 == \"S\") or (user1 == \"P\" and user2 == \"R\") or (user1 == \"S\" and user2 == \"P\"):\n",
    "        print(\"Player 1 wins this round!\")\n",
    "        p1_score += 1\n",
    "    else:\n",
    "        print(\"Player 2 wins this round!\")\n",
    "        p2_score += 1\n",
    "\n",
    "    # Show current score\n",
    "    print(f\"Current Score -> Player 1: {p1_score} | Player 2: {p2_score}\")\n",
    "\n",
    "    # Ask if they want to play again\n",
    "    play_again = input(\"Do you want to play another round? (yes/no): \").lower()\n",
    "    if play_again != \"yes\":\n",
    "        print(\"\\n=== Final Results ===\")\n",
    "        print(f\"Total Rounds Played: {rounds}\")\n",
    "        print(f\"Player 1 total wins: {p1_score}\")\n",
    "        print(f\"Player 2 total wins: {p2_score}\")\n",
    "\n",
    "        if p1_score > p2_score:\n",
    "            print(\"🏆 Player 1 is the overall winner!\")\n",
    "        elif p2_score > p1_score:\n",
    "            print(\"🏆 Player 2 is the overall winner!\")\n",
    "        else:\n",
    "            print(\"It's an overall tie! 🤝\")\n",
    "        break\n",
    "\n"
   ]
  },
  {
   "cell_type": "code",
   "execution_count": null,
   "id": "e2992cb2",
   "metadata": {},
   "outputs": [],
   "source": []
  }
 ],
 "metadata": {
  "language_info": {
   "name": "python"
  }
 },
 "nbformat": 4,
 "nbformat_minor": 5
}
